{
 "metadata": {
  "name": "",
  "signature": "sha256:fc679ec9d5b598768ec4eecc5b1ab5ae7e39d5989c3fd8f4231bf14587e7b383"
 },
 "nbformat": 3,
 "nbformat_minor": 0,
 "worksheets": [
  {
   "cells": [
    {
     "cell_type": "code",
     "collapsed": false,
     "input": [
      "#Welcome to the PyDB Tutorial\n",
      "#\n",
      "#In this notebook one will find code that has to be executed (by pressing Shift + Enter)\n",
      "#This is the only testing at the moment, in the future there will be testing functions.\n",
      "#For this to work, the PyDB folder has to be in your $PATH or your working directory (future work is to make it available from pip)\n",
      "#Let's see if the package can be imported:\n",
      "\n",
      "#If there are no errors, we can proceed to the next step"
     ],
     "language": "python",
     "metadata": {},
     "outputs": [],
     "prompt_number": 3
    },
    {
     "cell_type": "code",
     "collapsed": false,
     "input": [
      "from PyDB import *"
     ],
     "language": "python",
     "metadata": {},
     "outputs": [],
     "prompt_number": 4
    },
    {
     "cell_type": "code",
     "collapsed": false,
     "input": [
      "#If PyDB cannot be imported, make sure that you have it in your $PATH, or it is in the working directory.\n",
      "#(in the directory that contains this notebook file)\n",
      "#\n",
      "#There are 3 ways of opening and parsing a PDB file. By giving it's PDB ID, by giving a Url link to the file,\n",
      "#or giving the files name and path to the file that is located on the disk.\n",
      "#Let's try this"
     ],
     "language": "python",
     "metadata": {},
     "outputs": [],
     "prompt_number": 5
    },
    {
     "cell_type": "code",
     "collapsed": false,
     "input": [
      "myPDB_1 = PDBfile(ID = '1a0k')\n",
      "myPDB_2 = PDBfile(Url = 'https://files.rcsb.org/download/1AO6.pdb')\n",
      "myPDB_3 = PDBfile(File = '5b5t.pdb')"
     ],
     "language": "python",
     "metadata": {},
     "outputs": [],
     "prompt_number": 6
    },
    {
     "cell_type": "code",
     "collapsed": false,
     "input": [
      "#This should only take a couple of seconds.\n",
      "#Now that we have 3 PDB files parsed, let's take a look at the properties of the PDB object (PDBfile class)"
     ],
     "language": "python",
     "metadata": {},
     "outputs": [],
     "prompt_number": 7
    },
    {
     "cell_type": "code",
     "collapsed": false,
     "input": [
      "print(dir(myPDB_1))"
     ],
     "language": "python",
     "metadata": {},
     "outputs": [
      {
       "output_type": "stream",
       "stream": "stdout",
       "text": [
        "['ANISOU', 'ATOM', 'AUTHOR', 'CAVEAT', 'CHAINS', 'CISPEP', 'COMPND', 'CONECT', 'CRYST1', 'DBREF', 'DBREF1', 'DBREF2', 'END', 'ENDMDL', 'EXPDTA', 'FORMUL', 'FSOURCE', 'HEADER', 'HELIX', 'HET', 'HETATM', 'HETNAM', 'HETSYN', 'JRNL', 'JUNK', 'KEYWDS', 'LINENUM', 'LINENUMINV', 'LINK', 'MASTER', 'MDLTYP', 'MODEL', 'MODRES', 'MTRIX1', 'MTRIX2', 'MTRIX3', 'NUMMDL', 'OBSLTE', 'ORIGX1', 'ORIGX2', 'ORIGX3', 'REMARK_0', 'REMARK_1', 'REMARK_100', 'REMARK_2', 'REMARK_200', 'REMARK_205', 'REMARK_210', 'REMARK_230', 'REMARK_240', 'REMARK_245', 'REMARK_247', 'REMARK_250', 'REMARK_265', 'REMARK_280', 'REMARK_285', 'REMARK_290', 'REMARK_3', 'REMARK_300', 'REMARK_350', 'REMARK_375', 'REMARK_4', 'REMARK_400', 'REMARK_450', 'REMARK_465', 'REMARK_470', 'REMARK_475', 'REMARK_480', 'REMARK_5', 'REMARK_500', 'REMARK_525', 'REMARK_6', 'REMARK_600', 'REMARK_610', 'REMARK_615', 'REMARK_620', 'REMARK_630', 'REMARK_650', 'REMARK_700', 'REMARK_800', 'REMARK_999', 'REVDAT', 'SCALE1', 'SCALE2', 'SCALE3', 'SEQADV', 'SEQRES', 'SEQRESlen', 'SHEET', 'SITE', 'SOURCE', 'SPLIT', 'SPRSDE', 'SSBOND', 'TER', 'TITLE', '__class__', '__delattr__', '__dict__', '__dir__', '__doc__', '__eq__', '__format__', '__ge__', '__getattribute__', '__gt__', '__hash__', '__init__', '__le__', '__lt__', '__module__', '__ne__', '__new__', '__reduce__', '__reduce_ex__', '__repr__', '__setattr__', '__sizeof__', '__str__', '__subclasshook__', '__weakref__', 'depDate', 'idCode']\n"
       ]
      }
     ],
     "prompt_number": 8
    },
    {
     "cell_type": "code",
     "collapsed": false,
     "input": [
      "#These properties, for example the TITLE, can be accessed like:"
     ],
     "language": "python",
     "metadata": {},
     "outputs": [],
     "prompt_number": 9
    },
    {
     "cell_type": "code",
     "collapsed": false,
     "input": [
      "print(myPDB_1.TITLE, len(myPDB_1.TITLE))\n",
      "print(myPDB_2.TITLE, len(myPDB_2.TITLE))\n",
      "print(myPDB_3.TITLE, len(myPDB_3.TITLE))"
     ],
     "language": "python",
     "metadata": {},
     "outputs": [
      {
       "output_type": "stream",
       "stream": "stdout",
       "text": [
        "['PROFILIN I FROM ARABIDOPSIS THALIANA'] 1\n",
        "['CRYSTAL STRUCTURE OF HUMAN SERUM ALBUMIN'] 1\n",
        "['CRYSTAL STRUCTURE OF ESCHERICHIA COLI GAMMA-GLUTAMYLTRANSPEPTIDASE IN', 'COMPLEX WITH PEPTIDYL PHOSPHONATE INHIBITOR 1B'] 2\n"
       ]
      }
     ],
     "prompt_number": 10
    },
    {
     "cell_type": "code",
     "collapsed": false,
     "input": [
      "#As can be seen, the result is a list of strings with an undetermined length.\n",
      "#To understand the PDBfile class, the PDB file format has to be known, since everything is based on that.\n",
      "#In PDB file format the first 6 characters of each line is reserved for the so called RECORD, which has to be one of the folowing:\n",
      "#\n",
      "#HEADER, OBSLTE, TITLE, SPLIT, CAVEAT, COMPND, SOURCE, KEYWDS, EXPDTA, NUMMDL, MDLTYP, AUTHOR, REVDAT, SPRSDE, JRNL,\n",
      "#REMARK, DBREF, DBREF1, DBREF2, SEQADV, SEQRES, MODRES, HET, HETNAM, HETSYN, FORMUL, HELIX, SHEET, SSBOND, LINK, CISPEP,\n",
      "#SITE, CRYST1, ORIGX1, ORIGX2, ORIGX3, SCALE1, SCALE2, SCALE3, MTRIX1, MTRIX2, MTRIX3, MODEL, ATOM, ANISOU, TER, HETATM,\n",
      "#ENDMDL, CONECT, MASTER, END\n",
      "#\n",
      "#They will also come in this order (except for the ones that can appear multiple times).\n",
      "#to read more about what these mean, go to: http://www.wwpdb.org/documentation/file-format\n",
      "#\n",
      "#Some of these entries are mandatory (at some point the code will check if they exist, and if not, will give the proper warning\n",
      "#and exit) and some of them are mandatory for specific situations only.\n",
      "#\n",
      "#Mandatory RECORDS:\n",
      "#HEADER, TITLE, COMPND, SOURCE, KEYWDS, EXPDTA, AUTHOR, REVDAT, REMARK 2-3, SEQRES, CRYST1, ORIGX1, ORIGX2, ORIGX3,\n",
      "#SCALE1, SCALE2, SCALE3, MASTER, END\n",
      "#\n",
      "#There are four categories of the RECORDS: 1x1, 1xN, Mx1, MxN\n",
      "#1x1 means it can appear once and it's a single line\n",
      "#1xN can appear once but it can be multiple lines\n",
      "#Mx1 can appear multiple times, but each one is a single line\n",
      "#MxN can appear multiple times and each one can be multiple lines\n",
      "#\n",
      "#1x1 RECORDS:\n",
      "#HEADER, NUMMDL, CRYST1, ORIGX1, ORIGX2, ORIGX3, SCALE1, SCALE2, SCALE3, MASTER, END (note that NUMMDL is not mandatory)\n",
      "#\n",
      "#1xN RECORDS:\n",
      "#OBSLTE, TITLE, SPLIT, CAVEAT, COMPND, SOURCE, KEYWDS, EXPDTA, MDLTYP, AUTHOR, SPRSDE, JRNL, REMARK\n",
      "#\n",
      "#Mx1 RECORDS:\n",
      "#REVDAT, DBREF, DBREF1, DBREF2, SEQADV, MODRES, HET, HELIX, SHEET, SSBOND, LINK, CISPEP, MTRIX1, MTRIX2, MTRIX3,\n",
      "#ATOM, ANISOU, TER, HETATM, CONECT\n",
      "#\n",
      "#MxN RECORDS:\n",
      "#SEQRES, HETNAM, HETSYN, FORMUL, SITE, MODEL, ENDMDL\n",
      "#\n",
      "#These informations are crucial, because this property will determine how the data can be accessed.\n",
      "#\n",
      "#1x1 case\n",
      "#This case is easy like the one times one :))\n",
      "#There is only one line, so this is not a list, just a string\n",
      "#1x1 Example"
     ],
     "language": "python",
     "metadata": {},
     "outputs": [],
     "prompt_number": 11
    },
    {
     "cell_type": "code",
     "collapsed": false,
     "input": [
      "print(myPDB_1.HEADER)\n",
      "print(myPDB_2.HEADER)\n",
      "print(myPDB_3.HEADER)"
     ],
     "language": "python",
     "metadata": {},
     "outputs": [
      {
       "output_type": "stream",
       "stream": "stdout",
       "text": [
        "CYTOSKELETON\n",
        "CARRIER PROTEIN\n",
        "HYDROLASE/HYDROLASE INHIBITOR\n"
       ]
      }
     ],
     "prompt_number": 12
    },
    {
     "cell_type": "code",
     "collapsed": false,
     "input": [
      "#NOTE: The HEADER line is special, because it is built up from multiple informations.\n",
      "#When the HEADER line is parsed, two additional properties are added to PDBfile class, such as idCode and depDate\n",
      "#The idCode should be the PDB ID code that was parsed, and depDate is a python datetime object containig the date of deposition.\n",
      "#idCode is read from the HEADER line so even if the file is called something else, this will be still accurate."
     ],
     "language": "python",
     "metadata": {},
     "outputs": [],
     "prompt_number": 13
    },
    {
     "cell_type": "code",
     "collapsed": false,
     "input": [
      "print(myPDB_1.idCode, '\\t', myPDB_1.depDate.strftime(\"%A %d. %B %Y\"))\n",
      "print(myPDB_2.idCode, '\\t', myPDB_2.depDate.strftime(\"%A %d. %B %Y\"))\n",
      "print(myPDB_3.idCode, '\\t', myPDB_3.depDate.strftime(\"%A %d. %B %Y\"))"
     ],
     "language": "python",
     "metadata": {},
     "outputs": [
      {
       "output_type": "stream",
       "stream": "stdout",
       "text": [
        "1A0K \t Tuesday 02. December 1997\n",
        "1AO6 \t Friday 18. July 1997\n",
        "5B5T \t Wednesday 18. May 2016\n"
       ]
      }
     ],
     "prompt_number": 14
    },
    {
     "cell_type": "code",
     "collapsed": false,
     "input": [
      "#1xN case\n",
      "#These RECORDS will be lists of N strings (like TITLE was earlier)\n",
      "#Examples"
     ],
     "language": "python",
     "metadata": {},
     "outputs": [],
     "prompt_number": 15
    },
    {
     "cell_type": "code",
     "collapsed": false,
     "input": [
      "print(myPDB_1.COMPND, len(myPDB_1.COMPND))\n",
      "print(myPDB_2.COMPND, len(myPDB_2.COMPND))\n",
      "for t in myPDB_3.COMPND:\n",
      "    print(t)"
     ],
     "language": "python",
     "metadata": {},
     "outputs": [
      {
       "output_type": "stream",
       "stream": "stdout",
       "text": [
        "['MOL_ID: 1;', 'MOLECULE: PROFILIN;', 'CHAIN: A;', 'ENGINEERED: YES'] 4\n",
        "['MOL_ID: 1;', 'MOLECULE: SERUM ALBUMIN;', 'CHAIN: A, B'] 3\n",
        "MOL_ID: 1;\n",
        "MOLECULE: GAMMA-GLUTAMYLTRANSPEPTIDASE LARGE CHAIN;\n",
        "CHAIN: A, C;\n",
        "SYNONYM: GLUTATHIONE HYDROLASE, GAMMA-GLUTAMYLTRANSPEPTIDASE LARGE-\n",
        "SUBUNIT;\n",
        "EC: 2.3.2.2,3.4.19.13;\n",
        "ENGINEERED: YES;\n",
        "MOL_ID: 2;\n",
        "MOLECULE: GAMMA-GLUTAMYLTRANSPEPTIDASE SMALL CHAIN;\n",
        "CHAIN: B, D;\n",
        "SYNONYM: GLUTATHIONE HYDROLASE, GAMMA-GLUTAMYLTRANSPEPTIDASE SMALL-\n",
        "SUBUNIT;\n",
        "EC: 2.3.2.2,3.4.19.13;\n",
        "ENGINEERED: YES\n"
       ]
      }
     ],
     "prompt_number": 16
    },
    {
     "cell_type": "code",
     "collapsed": false,
     "input": [
      "#From the mandatory COMPND section the CHAINS is extracted directly as a property of PDBfile class"
     ],
     "language": "python",
     "metadata": {},
     "outputs": [],
     "prompt_number": 17
    },
    {
     "cell_type": "code",
     "collapsed": false,
     "input": [
      "print(myPDB_1.CHAINS)\n",
      "print(myPDB_2.CHAINS)\n",
      "print(myPDB_3.CHAINS)"
     ],
     "language": "python",
     "metadata": {},
     "outputs": [
      {
       "output_type": "stream",
       "stream": "stdout",
       "text": [
        "['A']\n",
        "['A', 'B']\n",
        "['A', 'C', 'B', 'D']\n"
       ]
      }
     ],
     "prompt_number": 18
    },
    {
     "cell_type": "code",
     "collapsed": false,
     "input": [
      "print(myPDB_1.KEYWDS)\n",
      "print(myPDB_2.KEYWDS)\n",
      "print(myPDB_3.KEYWDS)"
     ],
     "language": "python",
     "metadata": {},
     "outputs": [
      {
       "output_type": "stream",
       "stream": "stdout",
       "text": [
        "['PROFILIN, CYTOSKELETON, ACTIN-BINDING']\n",
        "['CARRIER PROTEIN, ALBUMIN']\n",
        "['GLUTATHIONE, HYDROLASE-HYDROLASE INHIBITOR COMPLEX']\n"
       ]
      }
     ],
     "prompt_number": 19
    },
    {
     "cell_type": "code",
     "collapsed": false,
     "input": [
      "#Mx1 case\n",
      "#These RECORDS will be lists of M strings or M objects.\n",
      "#Examples"
     ],
     "language": "python",
     "metadata": {},
     "outputs": [],
     "prompt_number": 20
    },
    {
     "cell_type": "code",
     "collapsed": false,
     "input": [
      "print(myPDB_1.REVDAT)\n",
      "print(myPDB_2.REVDAT)\n",
      "print(myPDB_3.REVDAT)"
     ],
     "language": "python",
     "metadata": {},
     "outputs": [
      {
       "output_type": "stream",
       "stream": "stdout",
       "text": [
        "['24-FEB-09 1A0K    1       VERSN', '01-APR-03 1A0K    1       JRNL', '18-MAR-98 1A0K    0']\n",
        "['24-FEB-09 1AO6    1       VERSN', '01-APR-03 1AO6    1       JRNL', '06-OCT-99 1AO6    1       JRNL', '27-MAY-98 1AO6    0']\n",
        "['26-OCT-16 5B5T    1       JRNL', '28-SEP-16 5B5T    0']\n"
       ]
      }
     ],
     "prompt_number": 21
    },
    {
     "cell_type": "code",
     "collapsed": false,
     "input": [
      "#The objects cannot be printed like the strings"
     ],
     "language": "python",
     "metadata": {},
     "outputs": [],
     "prompt_number": 22
    },
    {
     "cell_type": "code",
     "collapsed": false,
     "input": [
      "print(myPDB_1.CISPEP)\n",
      "print(myPDB_2.CISPEP)\n",
      "print(myPDB_3.CISPEP)"
     ],
     "language": "python",
     "metadata": {},
     "outputs": [
      {
       "output_type": "stream",
       "stream": "stdout",
       "text": [
        "[<PyDB.Cispep.Cispep object at 0x2ac57ac846d8>]\n",
        "[<PyDB.Cispep.Cispep object at 0x2ac57ae06668>, <PyDB.Cispep.Cispep object at 0x2ac57ae06710>]\n",
        "[<PyDB.Cispep.Cispep object at 0x2ac57b382400>, <PyDB.Cispep.Cispep object at 0x2ac57b3824a8>, <PyDB.Cispep.Cispep object at 0x2ac57b382550>, <PyDB.Cispep.Cispep object at 0x2ac57b3825f8>]\n"
       ]
      }
     ],
     "prompt_number": 23
    },
    {
     "cell_type": "code",
     "collapsed": false,
     "input": [
      "#A for loop can be used for example:"
     ],
     "language": "python",
     "metadata": {},
     "outputs": [],
     "prompt_number": 24
    },
    {
     "cell_type": "code",
     "collapsed": false,
     "input": [
      "for obj in myPDB_3.CISPEP:\n",
      "    print('{}  {}  {}  {}  {}  {}  {}  {}  {}  {}  {}'.format(\n",
      "          obj.serNum, obj.resName1, obj.chainID1, obj.seqNum1, obj.icode1,\n",
      "          obj.resName2, obj.chainID2, obj.seqNum2, obj.icode2, obj.modNum, obj.angle))"
     ],
     "language": "python",
     "metadata": {},
     "outputs": [
      {
       "output_type": "stream",
       "stream": "stdout",
       "text": [
        "1  PRO  A  292  None  PRO  A  293  None  0  14.26\n",
        "2  LEU  B  519  None  PRO  B  520  None  0  -0.16\n",
        "3  PRO  C  292  None  PRO  C  293  None  0  13.15\n",
        "4  LEU  D  519  None  PRO  D  520  None  0  0.75\n"
       ]
      }
     ],
     "prompt_number": 25
    },
    {
     "cell_type": "code",
     "collapsed": false,
     "input": [
      "#NOTE: Values can be None!\n",
      "#Naming convention comes from PDB file format guide, for the meaning of these names please refer to that.\n",
      "#Capital letters in the object properties namings mean that the property is a PDBfile property, other properties\n",
      "#that come from some of these properties start with lowercase (even for idCode and depDate for example)\n",
      "#\n",
      "#The property list can always be printed with:"
     ],
     "language": "python",
     "metadata": {},
     "outputs": [],
     "prompt_number": 26
    },
    {
     "cell_type": "code",
     "collapsed": false,
     "input": [
      "print(dir(myPDB_1.HELIX[0]))"
     ],
     "language": "python",
     "metadata": {},
     "outputs": [
      {
       "output_type": "stream",
       "stream": "stdout",
       "text": [
        "['__class__', '__delattr__', '__dict__', '__dir__', '__doc__', '__eq__', '__format__', '__ge__', '__getattribute__', '__gt__', '__hash__', '__init__', '__le__', '__lt__', '__module__', '__ne__', '__new__', '__reduce__', '__reduce_ex__', '__repr__', '__setattr__', '__sizeof__', '__str__', '__subclasshook__', '__weakref__', 'comment', 'endChainID', 'endICode', 'endResName', 'endSeqNum', 'helixClass', 'helixID', 'initChainID', 'initICode', 'initResName', 'initSeqNum', 'length', 'serNum']\n"
       ]
      }
     ],
     "prompt_number": 27
    },
    {
     "cell_type": "code",
     "collapsed": false,
     "input": [
      "print(myPDB_1.HELIX[0].length)"
     ],
     "language": "python",
     "metadata": {},
     "outputs": [
      {
       "output_type": "stream",
       "stream": "stdout",
       "text": [
        "11\n"
       ]
      }
     ],
     "prompt_number": 28
    },
    {
     "cell_type": "code",
     "collapsed": false,
     "input": [
      "#MxN case\n",
      "#In this case a double for loop is needed to get all the information in the right order\n",
      "#Entries can be lists of lists of strings or dictionary\n",
      "#HETNAM, HETSYN, FORMUL and SITE are dictionaries\n",
      "#Examples"
     ],
     "language": "python",
     "metadata": {},
     "outputs": [],
     "prompt_number": 29
    },
    {
     "cell_type": "code",
     "collapsed": false,
     "input": [
      "for key, value in myPDB_3.HETNAM.items():\n",
      "    print(key, '\\t', value)"
     ],
     "language": "python",
     "metadata": {},
     "outputs": [
      {
       "output_type": "stream",
       "stream": "stdout",
       "text": [
        "6FY \t (2~{S})-2-AZANYL-4-[(2~{R})-1-(2-HYDROXY-2-OXOETHYLAMINO)-1-OXIDANYLIDENE-BUTAN-2-YL]OXYPHOSPHONOYL-BUTANOIC ACID\n",
        "CA \t CALCIUM ION\n"
       ]
      }
     ],
     "prompt_number": 30
    },
    {
     "cell_type": "code",
     "collapsed": false,
     "input": [
      "for key, value in myPDB_3.FORMUL.items():\n",
      "    print(key, '\\t', value)"
     ],
     "language": "python",
     "metadata": {},
     "outputs": [
      {
       "output_type": "stream",
       "stream": "stdout",
       "text": [
        "6FY \t 2(C10 H19 N2 O7 P)\n",
        "HOH \t 1274(H2 O)\n",
        "CA \t 2(CA 2+)\n"
       ]
      }
     ],
     "prompt_number": 31
    },
    {
     "cell_type": "code",
     "collapsed": false,
     "input": [
      "for key, value in myPDB_1.SITE.items():\n",
      "    print(myPDB_3.SITE[key][0], myPDB_3.SITE[key][1])\n",
      "    for residue in myPDB_3.SITE[key][2]:\n",
      "        print(residue)"
     ],
     "language": "python",
     "metadata": {},
     "outputs": [
      {
       "output_type": "stream",
       "stream": "stdout",
       "text": [
        "AC1 16\n",
        "['ARG', 'A', 114, '']\n",
        "['THR', 'B', 391, '']\n",
        "['ASN', 'B', 411, '']\n",
        "['GLN', 'B', 430, '']\n",
        "['ASP', 'B', 433, '']\n",
        "['TYR', 'B', 444, '']\n",
        "['SER', 'B', 462, '']\n",
        "['SER', 'B', 463, '']\n",
        "['MET', 'B', 464, '']\n",
        "['PRO', 'B', 482, '']\n",
        "['GLY', 'B', 483, '']\n",
        "['GLY', 'B', 484, '']\n",
        "['ILE', 'B', 487, '']\n",
        "['GLY', 'B', 551, '']\n",
        "['HOH', 'B', 732, '']\n",
        "['HOH', 'B', 805, '']\n",
        "AC2 7\n",
        "['ASP', 'B', 569, '']\n",
        "['SER', 'B', 572, '']\n",
        "['ASP', 'B', 575, '']\n",
        "['HOH', 'B', 768, '']\n",
        "['HOH', 'B', 836, '']\n",
        "['HOH', 'B', 839, '']\n",
        "['HOH', 'B', 843, '']\n",
        "AC3 7\n",
        "['ASP', 'D', 569, '']\n",
        "['SER', 'D', 572, '']\n",
        "['ASP', 'D', 575, '']\n",
        "['HOH', 'D', 769, '']\n",
        "['HOH', 'D', 803, '']\n",
        "['HOH', 'D', 837, '']\n",
        "['HOH', 'D', 840, '']\n"
       ]
      }
     ],
     "prompt_number": 32
    },
    {
     "cell_type": "code",
     "collapsed": false,
     "input": [
      "#NOTE: SITE is special, because the name of the site and the number of residues is also given,\n",
      "#therfore the keys are just a range of numbers, and the values are lists of name, length, list-of-residues\n",
      "#So key is integer starting from 0\n",
      "#value is list of length 3\n",
      "#value[2] is a list of lists (n)\n",
      "#value[2][n] is list of length 4"
     ],
     "language": "python",
     "metadata": {},
     "outputs": [],
     "prompt_number": 33
    },
    {
     "cell_type": "code",
     "collapsed": false,
     "input": [
      "#Special PDBfile properties:"
     ],
     "language": "python",
     "metadata": {},
     "outputs": [],
     "prompt_number": 34
    },
    {
     "cell_type": "code",
     "collapsed": false,
     "input": [
      "print(myPDB_1.JUNK)\n",
      "print(myPDB_2.JUNK)\n",
      "print(myPDB_3.JUNK)"
     ],
     "language": "python",
     "metadata": {},
     "outputs": [
      {
       "output_type": "stream",
       "stream": "stdout",
       "text": [
        "None\n",
        "None\n",
        "None\n"
       ]
      }
     ],
     "prompt_number": 35
    },
    {
     "cell_type": "code",
     "collapsed": false,
     "input": [
      "#JUNK property has to be None, always, otherwise there was a line that was read and couldn't be identified\n",
      "#with any of the RECORDS, this means that the PDB file does not match the file format, either is corrupted\n",
      "#or it is a newer version (or there is a bug in the code, but that was tested, and it shouldn't be)"
     ],
     "language": "python",
     "metadata": {},
     "outputs": [],
     "prompt_number": 36
    },
    {
     "cell_type": "code",
     "collapsed": false,
     "input": [
      "print(myPDB_1.LINENUM[:40])"
     ],
     "language": "python",
     "metadata": {},
     "outputs": [
      {
       "output_type": "stream",
       "stream": "stdout",
       "text": [
        "['HEADER', 'TITLE', 'COMPND', 'COMPND', 'COMPND', 'COMPND', 'SOURCE', 'SOURCE', 'SOURCE', 'SOURCE', 'SOURCE', 'SOURCE', 'SOURCE', 'SOURCE', 'SOURCE', 'SOURCE', 'SOURCE', 'SOURCE', 'SOURCE', 'KEYWDS', 'EXPDTA', 'AUTHOR', 'REVDAT', 'REVDAT', 'REVDAT', 'JRNL', 'JRNL', 'JRNL', 'JRNL', 'JRNL', 'JRNL', 'JRNL', 'JRNL', 'REMARK', 'REMARK', 'REMARK', 'REMARK', 'REMARK', 'REMARK', 'REMARK']\n"
       ]
      }
     ],
     "prompt_number": 37
    },
    {
     "cell_type": "code",
     "collapsed": false,
     "input": [
      "#LINENUM is a list if RECORDS, each RECORDS position corresponding to the line number that it was found in.\n",
      "#length of LINENUM has to be equal to the number of lines in the file.\n",
      "#In case the is a warning message, stating the line number, this can be looked up as:"
     ],
     "language": "python",
     "metadata": {},
     "outputs": [],
     "prompt_number": 38
    },
    {
     "cell_type": "code",
     "collapsed": false,
     "input": [
      "line_number = 10\n",
      "print(myPDB_3.LINENUM[line_number])"
     ],
     "language": "python",
     "metadata": {},
     "outputs": [
      {
       "output_type": "stream",
       "stream": "stdout",
       "text": [
        "COMPND\n"
       ]
      }
     ],
     "prompt_number": 39
    },
    {
     "cell_type": "code",
     "collapsed": false,
     "input": [
      "#Similarly each RECORD can be looked up by the LINENUMINV dictionary"
     ],
     "language": "python",
     "metadata": {},
     "outputs": [],
     "prompt_number": 40
    },
    {
     "cell_type": "code",
     "collapsed": false,
     "input": [
      "print(myPDB_1.LINENUMINV['HEADER'])\n",
      "print(myPDB_1.LINENUMINV['JRNL'])"
     ],
     "language": "python",
     "metadata": {},
     "outputs": [
      {
       "output_type": "stream",
       "stream": "stdout",
       "text": [
        "[0]\n",
        "[25, 26, 27, 28, 29, 30, 31, 32]\n"
       ]
      }
     ],
     "prompt_number": 41
    },
    {
     "cell_type": "code",
     "collapsed": false,
     "input": [
      "#This will give a list of line numbers where the RECORD was found\n",
      "#This should be continous unless it's an MxN case"
     ],
     "language": "python",
     "metadata": {},
     "outputs": [],
     "prompt_number": 42
    },
    {
     "cell_type": "code",
     "collapsed": false,
     "input": [
      "#The following code will print lots of information about the first PDF file, execute it only if interested"
     ],
     "language": "python",
     "metadata": {},
     "outputs": [],
     "prompt_number": 43
    },
    {
     "cell_type": "code",
     "collapsed": false,
     "input": [
      "f = myPDB_1\n",
      "P = [f.HEADER, f.depDate, f.idCode, f.OBSLTE, f.TITLE, f.SPLIT, f.CAVEAT, f.COMPND, f.CHAINS, f.SOURCE, f.KEYWDS,\n",
      "      f.EXPDTA, f.NUMMDL, f.MDLTYP, f.AUTHOR, f.REVDAT, f.SPRSDE, f.JRNL, f.REMARK_0, f.REMARK_1, f.REMARK_2,\n",
      "      f.REMARK_3, f.REMARK_4, f.REMARK_5, f.REMARK_6, f.REMARK_100, f.REMARK_200, f.REMARK_205, f.REMARK_210,\n",
      "      f.REMARK_230, f.REMARK_240, f.REMARK_245, f.REMARK_247, f.REMARK_250, f.REMARK_265, f.REMARK_280, f.REMARK_285,\n",
      "      f.REMARK_290, f.REMARK_300, f.REMARK_350, f.REMARK_375, f.REMARK_400, f.REMARK_450, f.REMARK_465, f.REMARK_470,\n",
      "      f.REMARK_475, f.REMARK_480, f.REMARK_500, f.REMARK_525, f.REMARK_600, f.REMARK_610, f.REMARK_615, f.REMARK_620,\n",
      "      f.REMARK_630, f.REMARK_650, f.REMARK_700, f.REMARK_800, f.REMARK_999, f.DBREF[0].idCode, f.DBREF1, f.DBREF2, f.SEQADV,\n",
      "      f.SEQRES, f.SEQRESlen, f.MODRES, f.HET, f.HETNAM, f.HETSYN, f.FORMUL, f.HELIX[2].helixID, f.SHEET[2].sheetID, \n",
      "      f.SSBOND, f.LINK, f.CISPEP[0].resName1, f.SITE, f.CRYST1, f.ORIGX1, f.ORIGX2, f.ORIGX3, f.SCALE1, f.SCALE2, f.SCALE3,\n",
      "      f.MTRIX1, f.MTRIX2, f.MTRIX3, f.MODEL, f.ATOM[0].x, f.ATOM[1].y, f.ATOM[9].z, f.ANISOU, f.TER[0].resName, f.HETATM[0].x,\n",
      "      f.HETATM[1].y, f.ENDMDL, f.CONECT, f.MASTER, f.END,\n",
      "      f.JUNK, f.LINENUM[0], f.LINENUM[9], f.LINENUMINV['TITLE'], f.LINENUMINV['FORMUL'], f.FSOURCE]\n",
      "\n",
      "for p in P:\n",
      "    print(p)"
     ],
     "language": "python",
     "metadata": {},
     "outputs": [
      {
       "output_type": "stream",
       "stream": "stdout",
       "text": [
        "CYTOSKELETON\n",
        "1997-12-02 00:00:00\n",
        "1A0K\n",
        "None\n",
        "['PROFILIN I FROM ARABIDOPSIS THALIANA']\n",
        "None\n",
        "None\n",
        "['MOL_ID: 1;', 'MOLECULE: PROFILIN;', 'CHAIN: A;', 'ENGINEERED: YES']\n",
        "['A']\n",
        "['MOL_ID: 1;', 'ORGANISM_SCIENTIFIC: ARABIDOPSIS THALIANA;', 'ORGANISM_COMMON: THALE CRESS;', 'ORGANISM_TAXID: 3702;', 'STRAIN: COLUMBIA;', 'CELL_LINE: BL21;', 'CELLULAR_LOCATION: CELLULAR CYTOSKELETON;', 'GENE: PFN;', 'EXPRESSION_SYSTEM: ESCHERICHIA COLI BL21(DE3);', 'EXPRESSION_SYSTEM_TAXID: 469008;', 'EXPRESSION_SYSTEM_STRAIN: BL21 (DE3);', 'EXPRESSION_SYSTEM_VECTOR_TYPE: VIRUS;', 'EXPRESSION_SYSTEM_PLASMID: PET']\n",
        "['PROFILIN, CYTOSKELETON, ACTIN-BINDING']\n",
        "['X-RAY DIFFRACTION']\n",
        "None\n",
        "None\n",
        "['R.SHIGETA JUNIOR,D.HUDDLER,U.LINDBERG,C.E.SCHUTT']\n",
        "['24-FEB-09 1A0K    1       VERSN', '01-APR-03 1A0K    1       JRNL', '18-MAR-98 1A0K    0']\n",
        "None\n",
        "['AUTH   K.S.THORN,H.E.CHRISTENSEN,R.SHIGETA,D.HUDDLER,', 'AUTH 2 L.SHALABY,U.LINDBERG,N.H.CHUA,C.E.SCHUTT', 'TITL   THE CRYSTAL STRUCTURE OF A MAJOR ALLERGEN FROM', 'TITL 2 PLANTS.', 'REF    STRUCTURE                     V.   5    19 1997', 'REFN                   ISSN 0969-2126', 'PMID   9016723', 'DOI    10.1016/S0969-2126(97)00163-9']\n",
        "None\n",
        "['REFERENCE 1', 'AUTH   H.E.CHRISTENSEN,S.RAMACHANDRAN,C.T.TAN,U.SURANA,', 'AUTH 2 C.H.DONG,N.H.CHUA', 'TITL   ARABIDOPSIS PROFILINS ARE FUNCTIONALLY SIMILAR TO', 'TITL 2 YEAST PROFILINS: IDENTIFICATION OF A VASCULAR', 'TITL 3 BUNDLE-SPECIFIC PROFILIN AND A POLLEN-SPECIFIC', 'TITL 4 PROFILIN', 'REF    PLANT J.                      V.  10   269 1996', 'REFN                   ISSN 0960-7412', 'REFERENCE 2', 'AUTH   E.S.CEDERGREN-ZEPPEZAUER,N.C.GOONESEKERE,', 'AUTH 2 M.D.ROZYCKI,J.C.MYSLIK,Z.DAUTER,U.LINDBERG,', 'AUTH 3 C.E.SCHUTT', 'TITL   CRYSTALLIZATION AND STRUCTURE DETERMINATION OF', 'TITL 2 BOVINE PROFILIN AT 2.0 A RESOLUTION', 'REF    J.MOL.BIOL.                   V. 240   459 1994', 'REFN                   ISSN 0022-2836', 'REFERENCE 3', 'AUTH   C.E.SCHUTT,J.C.MYSLIK,M.D.ROZYCKI,N.C.GOONESEKERE,', 'AUTH 2 U.LINDBERG', 'TITL   THE STRUCTURE OF CRYSTALLINE PROFILIN-BETA-ACTIN', 'REF    NATURE                        V. 365   810 1993', 'REFN                   ISSN 0028-0836']\n",
        "['RESOLUTION.    2.20 ANGSTROMS.']\n",
        "['REFINEMENT.', 'PROGRAM     : X-PLOR 3.0', 'AUTHORS     : BRUNGER', 'DATA USED IN REFINEMENT.', 'RESOLUTION RANGE HIGH (ANGSTROMS) : 2.20', 'RESOLUTION RANGE LOW  (ANGSTROMS) : 6.00', 'DATA CUTOFF            (SIGMA(F)) : 2.000', 'DATA CUTOFF HIGH         (ABS(F)) : 10000000.000', 'DATA CUTOFF LOW          (ABS(F)) : 0.0001', 'COMPLETENESS (WORKING+TEST)   (%) : 91.2', 'NUMBER OF REFLECTIONS             : 5530', 'FIT TO DATA USED IN REFINEMENT.', 'CROSS-VALIDATION METHOD          : DURING REFINEMENT', 'FREE R VALUE TEST SET SELECTION  : RANDOM', 'R VALUE            (WORKING SET) : 0.172', 'FREE R VALUE                     : 0.238', 'FREE R VALUE TEST SET SIZE   (%) : 7.000', 'FREE R VALUE TEST SET COUNT      : 418', 'ESTIMATED ERROR OF FREE R VALUE  : NULL', 'FIT IN THE HIGHEST RESOLUTION BIN.', 'TOTAL NUMBER OF BINS USED           : 8', 'BIN RESOLUTION RANGE HIGH       (A) : 2.20', 'BIN RESOLUTION RANGE LOW        (A) : 2.30', 'BIN COMPLETENESS (WORKING+TEST) (%) : 61.15', 'REFLECTIONS IN BIN    (WORKING SET) : 388', 'BIN R VALUE           (WORKING SET) : 0.2104', 'BIN FREE R VALUE                    : 0.2483', 'BIN FREE R VALUE TEST SET SIZE  (%) : 7.84', 'BIN FREE R VALUE TEST SET COUNT     : 33', 'ESTIMATED ERROR OF BIN FREE R VALUE : NULL', 'NUMBER OF NON-HYDROGEN ATOMS USED IN REFINEMENT.', 'PROTEIN ATOMS            : 1260', 'NUCLEIC ACID ATOMS       : 0', 'HETEROGEN ATOMS          : 0', 'SOLVENT ATOMS            : 26', 'B VALUES.', 'FROM WILSON PLOT           (A**2) : 4.02', 'MEAN B VALUE      (OVERALL, A**2) : 12.50', 'OVERALL ANISOTROPIC B VALUE.', 'B11 (A**2) : -0.02268', 'B22 (A**2) : -0.01178', 'B33 (A**2) : 0.09292', 'B12 (A**2) : 0.00818', 'B13 (A**2) : -0.01218', 'B23 (A**2) : 0.00154', 'ESTIMATED COORDINATE ERROR.', 'ESD FROM LUZZATI PLOT        (A) : 0.12', 'ESD FROM SIGMAA              (A) : NULL', 'LOW RESOLUTION CUTOFF        (A) : 6.00', 'CROSS-VALIDATED ESTIMATED COORDINATE ERROR.', 'ESD FROM C-V LUZZATI PLOT    (A) : 0.18', 'ESD FROM C-V SIGMAA          (A) : NULL', 'RMS DEVIATIONS FROM IDEAL VALUES.', 'BOND LENGTHS                 (A) : 0.014', 'BOND ANGLES            (DEGREES) : 1.91', 'DIHEDRAL ANGLES        (DEGREES) : 23.65', 'IMPROPER ANGLES        (DEGREES) : 1.57', 'ISOTROPIC THERMAL MODEL : NULL', 'ISOTROPIC THERMAL FACTOR RESTRAINTS.    RMS    SIGMA', 'MAIN-CHAIN BOND              (A**2) : NULL  ; NULL', 'MAIN-CHAIN ANGLE             (A**2) : NULL  ; NULL', 'SIDE-CHAIN BOND              (A**2) : NULL  ; NULL', 'SIDE-CHAIN ANGLE             (A**2) : NULL  ; NULL', 'NCS MODEL : NULL', 'NCS RESTRAINTS.                         RMS   SIGMA/WEIGHT', 'GROUP  1  POSITIONAL            (A) : NULL  ; NULL', 'GROUP  1  B-FACTOR           (A**2) : NULL  ; NULL', 'PARAMETER FILE  1  : PARHCSDX.PRO', 'PARAMETER FILE  2  : SOLVPAR.PRO', 'PARAMETER FILE  3  : NULL', 'TOPOLOGY FILE  1   : NULL', 'TOPOLOGY FILE  2   : NULL', 'TOPOLOGY FILE  3   : NULL', 'OTHER REFINEMENT REMARKS: NULL']\n",
        "['1A0K COMPLIES WITH FORMAT V. 3.15, 01-DEC-08']\n",
        "None\n",
        "None\n",
        "['THIS ENTRY HAS BEEN PROCESSED BY BNL.']\n",
        "['EXPERIMENTAL DETAILS', 'EXPERIMENT TYPE                : X-RAY DIFFRACTION', 'DATE OF DATA COLLECTION        : SEP-96', 'TEMPERATURE           (KELVIN) : 298', 'PH                             : 5.0', 'NUMBER OF CRYSTALS USED        : 1', 'SYNCHROTRON              (Y/N) : N', 'RADIATION SOURCE               : ROTATING ANODE', 'BEAMLINE                       : NULL', 'X-RAY GENERATOR MODEL          : RIGAKU', 'MONOCHROMATIC OR LAUE    (M/L) : M', 'WAVELENGTH OR RANGE        (A) : 1.5418', 'MONOCHROMATOR                  : YALE MIRRORS', 'OPTICS                         : YALE MIRRORS', 'DETECTOR TYPE                  : IMAGE PLATE', 'DETECTOR MANUFACTURER          : RIGAKU', 'INTENSITY-INTEGRATION SOFTWARE : DENZO', 'DATA SCALING SOFTWARE          : SCALEPACK', 'NUMBER OF UNIQUE REFLECTIONS   : 5530', 'RESOLUTION RANGE HIGH      (A) : 2.200', 'RESOLUTION RANGE LOW       (A) : 30.000', 'REJECTION CRITERIA  (SIGMA(I)) : 5.000', 'OVERALL.', 'COMPLETENESS FOR RANGE     (%) : 90.4', 'DATA REDUNDANCY                : 2.600', 'R MERGE                    (I) : 0.06600', 'R SYM                      (I) : 0.06600', '<I/SIGMA(I)> FOR THE DATA SET  : 0.2176', 'IN THE HIGHEST RESOLUTION SHELL.', 'HIGHEST RESOLUTION SHELL, RANGE HIGH (A) : 2.20', 'HIGHEST RESOLUTION SHELL, RANGE LOW  (A) : 2.28', 'COMPLETENESS FOR SHELL     (%) : 55.5', 'DATA REDUNDANCY IN SHELL       : 1.50', 'R MERGE FOR SHELL          (I) : 0.12000', 'R SYM FOR SHELL            (I) : 0.12900', '<I/SIGMA(I)> FOR SHELL         : 10.130', 'DIFFRACTION PROTOCOL: NULL', 'METHOD USED TO DETERMINE THE STRUCTURE: MOLECULAR REPLACEMENT', 'SOFTWARE USED: X-PLOR 3.0', 'STARTING MODEL: PDB ENTRY 3NUL', 'REMARK: NULL']\n",
        "None\n",
        "None\n",
        "None\n",
        "None\n",
        "None\n",
        "None\n",
        "None\n",
        "None\n",
        "['CRYSTAL', 'SOLVENT CONTENT, VS   (%): 22.00', 'MATTHEWS COEFFICIENT, VM (ANGSTROMS**3/DA): 1.90', 'CRYSTALLIZATION CONDITIONS: 2.0 M AMMONIUM SULFATE, 0.1 M', 'CITRATE PH 5.0, 10 MM DTT, 0.2 MM EDTA']\n",
        "None\n",
        "['CRYSTALLOGRAPHIC SYMMETRY', 'SYMMETRY OPERATORS FOR SPACE GROUP: P 21 21 21', 'SYMOP   SYMMETRY', 'NNNMMM   OPERATOR', '1555   X,Y,Z', '2555   -X+1/2,-Y,Z+1/2', '3555   -X,Y+1/2,-Z+1/2', '4555   X+1/2,-Y+1/2,-Z', 'WHERE NNN -> OPERATOR NUMBER', 'MMM -> TRANSLATION VECTOR', 'CRYSTALLOGRAPHIC SYMMETRY TRANSFORMATIONS', 'THE FOLLOWING TRANSFORMATIONS OPERATE ON THE ATOM/HETATM', 'RECORDS IN THIS ENTRY TO PRODUCE CRYSTALLOGRAPHICALLY', 'RELATED MOLECULES.', 'SMTRY1   1  1.000000  0.000000  0.000000        0.00000', 'SMTRY2   1  0.000000  1.000000  0.000000        0.00000', 'SMTRY3   1  0.000000  0.000000  1.000000        0.00000', 'SMTRY1   2 -1.000000  0.000000  0.000000       21.52500', 'SMTRY2   2  0.000000 -1.000000  0.000000        0.00000', 'SMTRY3   2  0.000000  0.000000  1.000000       29.93500', 'SMTRY1   3 -1.000000  0.000000  0.000000        0.00000', 'SMTRY2   3  0.000000  1.000000  0.000000       21.76500', 'SMTRY3   3  0.000000  0.000000 -1.000000       29.93500', 'SMTRY1   4  1.000000  0.000000  0.000000       21.52500', 'SMTRY2   4  0.000000 -1.000000  0.000000       21.76500', 'SMTRY3   4  0.000000  0.000000 -1.000000        0.00000', 'REMARK: NULL']\n",
        "['BIOMOLECULE: 1', 'SEE REMARK 350 FOR THE AUTHOR PROVIDED AND/OR PROGRAM', 'GENERATED ASSEMBLY INFORMATION FOR THE STRUCTURE IN', 'THIS ENTRY. THE REMARK MAY ALSO PROVIDE INFORMATION ON', 'BURIED SURFACE AREA.']\n",
        "['COORDINATES FOR A COMPLETE MULTIMER REPRESENTING THE KNOWN', 'BIOLOGICALLY SIGNIFICANT OLIGOMERIZATION STATE OF THE', 'MOLECULE CAN BE GENERATED BY APPLYING BIOMT TRANSFORMATIONS', 'GIVEN BELOW.  BOTH NON-CRYSTALLOGRAPHIC AND', 'CRYSTALLOGRAPHIC OPERATIONS ARE GIVEN.', 'BIOMOLECULE: 1', 'AUTHOR DETERMINED BIOLOGICAL UNIT: MONOMERIC', 'APPLY THE FOLLOWING TO CHAINS: A', 'BIOMT1   1  1.000000  0.000000  0.000000        0.00000', 'BIOMT2   1  0.000000  1.000000  0.000000        0.00000', 'BIOMT3   1  0.000000  0.000000  1.000000        0.00000']\n",
        "None\n",
        "None\n",
        "None\n",
        "['MISSING RESIDUES', 'THE FOLLOWING RESIDUES WERE NOT LOCATED IN THE', 'EXPERIMENT. (M=MODEL NUMBER; RES=RESIDUE NAME; C=CHAIN', 'IDENTIFIER; SSSEQ=SEQUENCE NUMBER; I=INSERTION CODE.)', 'M RES C SSSEQI', 'MET A     1']\n",
        "None\n",
        "None\n",
        "None\n",
        "['GEOMETRY AND STEREOCHEMISTRY', 'SUBTOPIC: TORSION ANGLES', 'TORSION ANGLES OUTSIDE THE EXPECTED RAMACHANDRAN REGIONS:', '(M=MODEL NUMBER; RES=RESIDUE NAME; C=CHAIN IDENTIFIER;', 'SSEQ=SEQUENCE NUMBER; I=INSERTION CODE).', 'STANDARD TABLE:', 'FORMAT:(10X,I3,1X,A3,1X,A1,I4,A1,4X,F7.2,3X,F7.2)', 'EXPECTED VALUES: GJ KLEYWEGT AND TA JONES (1996). PHI/PSI-', 'CHOLOGY: RAMACHANDRAN REVISITED. STRUCTURE 4, 1395 - 1400', 'M RES CSSEQI        PSI       PHI', 'GLU A  16       33.46     75.75', 'THR A  97     -165.72   -105.81', 'ALA A 100     -168.02   -123.67', 'REMARK: NULL']\n",
        "None\n",
        "None\n",
        "None\n",
        "None\n",
        "None\n",
        "None\n",
        "None\n",
        "None\n",
        "['SITE', 'SITE_IDENTIFIER: PLY', 'EVIDENCE_CODE: UNKNOWN', 'SITE_DESCRIPTION: BIOLOGICAL RELEVANCE NOT DETERMINED.', 'SITE_IDENTIFIER: GOL', 'EVIDENCE_CODE: UNKNOWN', 'SITE_DESCRIPTION: BIOLOGICAL RELEVANCE NOT DETERMINED.', 'SITE_IDENTIFIER: AIN', 'EVIDENCE_CODE: UNKNOWN', 'SITE_DESCRIPTION: POLYMORPHIC BETWEEN SPECIES.']\n",
        "None\n",
        "1A0K\n",
        "None\n",
        "None\n",
        "None\n",
        "{'A': ['MET', 'SER', 'TRP', 'GLN', 'SER', 'TYR', 'VAL', 'ASP', 'ASP', 'HIS', 'LEU', 'MET', 'CYS', 'ASP', 'VAL', 'GLU', 'GLY', 'ASN', 'HIS', 'LEU', 'THR', 'ALA', 'ALA', 'ALA', 'ILE', 'LEU', 'GLY', 'GLN', 'ASP', 'GLY', 'SER', 'VAL', 'TRP', 'ALA', 'GLN', 'SER', 'ALA', 'LYS', 'PHE', 'PRO', 'GLN', 'LEU', 'LYS', 'PRO', 'GLN', 'GLU', 'ILE', 'ASP', 'GLY', 'ILE', 'LYS', 'LYS', 'ASP', 'PHE', 'GLU', 'GLU', 'PRO', 'GLY', 'PHE', 'LEU', 'ALA', 'PRO', 'THR', 'GLY', 'LEU', 'PHE', 'LEU', 'GLY', 'GLY', 'GLU', 'LYS', 'TYR', 'MET', 'VAL', 'ILE', 'GLN', 'GLY', 'GLU', 'GLN', 'GLY', 'ALA', 'VAL', 'ILE', 'ARG', 'GLY', 'LYS', 'LYS', 'GLY', 'PRO', 'GLY', 'GLY', 'VAL', 'THR', 'ILE', 'LYS', 'LYS', 'THR', 'ASN', 'GLN', 'ALA', 'LEU', 'VAL', 'PHE', 'GLY', 'PHE', 'TYR', 'ASP', 'GLU', 'PRO', 'MET', 'THR', 'GLY', 'GLY', 'GLN', 'CYS', 'ASN', 'LEU', 'VAL', 'VAL', 'GLU', 'ARG', 'LEU', 'GLY', 'ASP', 'TYR', 'LEU', 'ILE', 'GLU', 'SER', 'GLU', 'LEU']}\n",
        "{'A': 131}\n",
        "None\n",
        "None\n",
        "None\n",
        "None\n",
        "{'HOH': '26(H2 O)'}\n",
        "H4\n",
        "A\n",
        "None\n",
        "None\n",
        "GLU\n",
        "{0: ['PLY', 6, [['TRP', 'A', 3, ''], ['TYR', 'A', 6, ''], ['ILE', 'A', 25, ''], ['TRP', 'A', 33, ''], ['TYR', 'A', 125, ''], ['LEU', 'A', 126, '']]], 1: ['GOL', 17, [['ASP', 'A', 53, ''], ['PHE', 'A', 54, ''], ['PRO', 'A', 57, ''], ['GLY', 'A', 58, ''], ['PHE', 'A', 59, ''], ['ALA', 'A', 61, ''], ['PRO', 'A', 62, ''], ['THR', 'A', 63, ''], ['GLY', 'A', 64, ''], ['LEU', 'A', 65, ''], ['ILE', 'A', 75, ''], ['GLY', 'A', 77, ''], ['GLU', 'A', 78, ''], ['GLN', 'A', 79, ''], ['GLY', 'A', 80, ''], ['VAL', 'A', 82, ''], ['ILE', 'A', 83, '']]], 2: ['AIN', 14, [['ALA', 'A', 61, ''], ['PRO', 'A', 62, ''], ['MET', 'A', 73, ''], ['GLN', 'A', 76, ''], ['VAL', 'A', 82, ''], ['ARG', 'A', 84, ''], ['LYS', 'A', 86, ''], ['LYS', 'A', 87, ''], ['THR', 'A', 111, ''], ['GLY', 'A', 112, ''], ['GLY', 'A', 113, ''], ['ASN', 'A', 116, ''], ['LEU', 'A', 117, ''], ['ARG', 'A', 121, '']]]}\n",
        "43.050   43.530   59.870  90.00  90.00  90.00 P 21 21 21    4\n",
        "1.000000  0.000000  0.000000        0.00000\n",
        "0.000000  1.000000  0.000000        0.00000\n",
        "0.000000  0.000000  1.000000        0.00000\n",
        "0.023229  0.000000  0.000000        0.00000\n",
        "0.000000  0.022973  0.000000        0.00000\n",
        "0.000000  0.000000  0.016703        0.00000\n",
        "None\n",
        "None\n",
        "None\n",
        "None\n",
        "0.88\n",
        "14.106\n",
        "-1.811\n",
        "None\n",
        "LEU\n",
        "18.649\n",
        "29.344\n",
        "None\n",
        "None\n",
        "265    0    0    3    8    0   11    6 1277    1    0   11\n",
        "Done\n",
        "None\n",
        "HEADER\n",
        "SOURCE\n",
        "[1]\n",
        "[310]\n",
        "1a0k\n"
       ]
      }
     ],
     "prompt_number": 44
    },
    {
     "cell_type": "code",
     "collapsed": false,
     "input": [
      "#The FSOURCE will give the source of the file, in case it was forgot somehow"
     ],
     "language": "python",
     "metadata": {},
     "outputs": [],
     "prompt_number": 45
    },
    {
     "cell_type": "code",
     "collapsed": false,
     "input": [
      "print(myPDB_1.FSOURCE)\n",
      "print(myPDB_2.FSOURCE)\n",
      "print(myPDB_3.FSOURCE)"
     ],
     "language": "python",
     "metadata": {},
     "outputs": [
      {
       "output_type": "stream",
       "stream": "stdout",
       "text": [
        "1a0k\n",
        "https://files.rcsb.org/download/1AO6.pdb\n",
        "5b5t.pdb\n"
       ]
      }
     ],
     "prompt_number": 46
    },
    {
     "cell_type": "code",
     "collapsed": false,
     "input": [
      "#pickle can be used to save and load the PDBfile objects"
     ],
     "language": "python",
     "metadata": {},
     "outputs": [],
     "prompt_number": 47
    },
    {
     "cell_type": "code",
     "collapsed": false,
     "input": [
      "import pickle\n",
      "\n",
      "with open('1a0k.pydb', 'wb') as f: #needs to be opened in binary mode\n",
      "    pickle.dump(myPDB_1, f)\n",
      "\n",
      "with open('1a0k.pydb', 'rb') as f: #needs to be opened in binary mode\n",
      "    pdb_1a0k = pickle.load(f)\n",
      "\n",
      "print(pdb_1a0k.HEADER, '\\n', pdb_1a0k.ATOM[0].x)"
     ],
     "language": "python",
     "metadata": {},
     "outputs": [
      {
       "output_type": "stream",
       "stream": "stdout",
       "text": [
        "CYTOSKELETON \n",
        " 0.88\n"
       ]
      }
     ],
     "prompt_number": 51
    },
    {
     "cell_type": "code",
     "collapsed": false,
     "input": [
      "#Using pickle the file size does not increase too much (because the PDB file format is a fixed length format, so it contains\n",
      "#lots of space characters)\n",
      "#1a0k.pdb is: 131,382 bytes\n",
      "#1a0k.pydb is: 206,767 bytes\n",
      "#This is a 57% increase, which is not bad"
     ],
     "language": "python",
     "metadata": {},
     "outputs": [],
     "prompt_number": 52
    },
    {
     "cell_type": "code",
     "collapsed": false,
     "input": [],
     "language": "python",
     "metadata": {},
     "outputs": []
    }
   ],
   "metadata": {}
  }
 ]
}