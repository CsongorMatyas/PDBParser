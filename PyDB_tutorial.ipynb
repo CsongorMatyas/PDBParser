{
 "metadata": {
  "name": "",
  "signature": "sha256:dc861bd5c9d2e717ccfc39127b3144940115bb9a7b1882fe0cb8fdfbeab0100b"
 },
 "nbformat": 3,
 "nbformat_minor": 0,
 "worksheets": [
  {
   "cells": [
    {
     "cell_type": "markdown",
     "metadata": {},
     "source": [
      "##Welcome to the PyDB Tutorial\n",
      "\n",
      "* In this notebook one will find code that has to be executed **(by pressing Shift + Enter)**\n",
      "<sub>(This is the only testing at the moment, in the future there will be testing functions.)</sub>\n",
      "\n",
      "\n",
      "* For this to work, the PyDB folder has to be in your **$PATH** or your working directory\n",
      "<sub>(future work is to make it available from pip)</sub>\n",
      "\n",
      "\n",
      "* Let's see if the package can be imported:\n",
      "\n",
      "\n",
      "* If there are no errors, we can proceed to the next step"
     ]
    },
    {
     "cell_type": "code",
     "collapsed": false,
     "input": [
      "from PyDB import *"
     ],
     "language": "python",
     "metadata": {},
     "outputs": [],
     "prompt_number": 2
    },
    {
     "cell_type": "markdown",
     "metadata": {},
     "source": [
      "If PyDB cannot be imported, make sure that you have it in your **$PATH**, or it is in the working directory.\n",
      "<sub>(in the directory that contains this notebook file)</sub>\n",
      "\n",
      "There are 3 ways of opening and parsing a PDB file.\n",
      "\n",
      "* By giving it's **PDB ID**\n",
      "* by giving a **Url** link to the file,\n",
      "* or giving the **files name and path** to the file that is located on the disk.\n",
      "\n",
      "Let's try them"
     ]
    },
    {
     "cell_type": "code",
     "collapsed": false,
     "input": [
      "myPDB_1 = PDBfile(ID = '1a0k')\n",
      "myPDB_2 = PDBfile(Url = 'https://files.rcsb.org/download/1AO6.pdb')\n",
      "myPDB_3 = PDBfile(File = '5b5t.pdb')"
     ],
     "language": "python",
     "metadata": {},
     "outputs": [],
     "prompt_number": 4
    },
    {
     "cell_type": "markdown",
     "metadata": {},
     "source": [
      "This should only take a couple of seconds.\n",
      "\n",
      "Now that we have 3 PDB files parsed, let's take a look at the properties of the PDB object (PDBfile class)"
     ]
    },
    {
     "cell_type": "code",
     "collapsed": false,
     "input": [
      "print(dir(myPDB_1))"
     ],
     "language": "python",
     "metadata": {},
     "outputs": []
    },
    {
     "cell_type": "markdown",
     "metadata": {},
     "source": [
      "These properties, for example the TITLE, can be accessed like:"
     ]
    },
    {
     "cell_type": "code",
     "collapsed": false,
     "input": [
      "print(myPDB_1.TITLE, len(myPDB_1.TITLE))\n",
      "print(myPDB_2.TITLE, len(myPDB_2.TITLE))\n",
      "print(myPDB_3.TITLE, len(myPDB_3.TITLE))"
     ],
     "language": "python",
     "metadata": {},
     "outputs": []
    },
    {
     "cell_type": "markdown",
     "metadata": {},
     "source": [
      "As can be seen, the result is a list of strings with an undetermined length.\n",
      "\n",
      "To understand the PDBfile class, the **PDB file format** has to be known, since everything is based on that.\n",
      "\n",
      "In PDB file format the first 6 characters of each line is reserved for the so called RECORD.\n",
      "\n",
      "RECORD has to be one of the folowing:\n",
      "\n",
      "    HEADER, OBSLTE, TITLE, SPLIT, CAVEAT, COMPND, SOURCE, KEYWDS, EXPDTA, NUMMDL, MDLTYP, AUTHOR,\n",
      "    REVDAT, SPRSDE, JRNL, REMARK, DBREF, DBREF1, DBREF2, SEQADV, SEQRES, MODRES, HET, HETNAM, \n",
      "    HETSYN, FORMUL, HELIX, SHEET, SSBOND, LINK, CISPEP, SITE, CRYST1, ORIGX1, ORIGX2, ORIGX3,\n",
      "    SCALE1, SCALE2, SCALE3, MTRIX1, MTRIX2, MTRIX3, MODEL, ATOM, ANISOU, TER, HETATM, ENDMDL, \n",
      "    CONECT, MASTER, END\n",
      "\n",
      "They will also come in this order (except for the ones that can appear multiple times).\n",
      "\n",
      "To read more about what these mean, go to: http://www.wwpdb.org/documentation/file-format\n",
      "\n",
      "Some of these entries are mandatory and some of them are mandatory for specific situations only. <sub>(the code will check if they exist and if not, it will give the proper warning and exit)</sub>\n",
      "\n",
      "###Mandatory RECORDS:\n",
      "\n",
      "    HEADER, TITLE, COMPND, SOURCE, KEYWDS, EXPDTA, AUTHOR, REVDAT, REMARK 2-3, SEQRES,\n",
      "    CRYST1, ORIGX1, ORIGX2, ORIGX3, SCALE1, SCALE2, SCALE3, MASTER, END\n",
      "\n",
      "There are four categories of the RECORDS: **1x1, 1xN, Mx1, MxN**\n",
      "* **1x1** means it can appear once and it's a single line\n",
      "* **1xN** can appear once but it can be multiple lines\n",
      "* **Mx1** can appear multiple times, but each one is a single line\n",
      "* **MxN** can appear multiple times and each one can be multiple lines\n",
      "\n",
      "###1x1 RECORDS:\n",
      "    HEADER, NUMMDL, CRYST1, ORIGX1, ORIGX2, ORIGX3, SCALE1, SCALE2, SCALE3, \n",
      "    MASTER, END\n",
      "<sub>(note that all are mandatory, except for NUMMDL)</sub>\n",
      "\n",
      "###1xN RECORDS:\n",
      "    OBSLTE, TITLE, SPLIT, CAVEAT, COMPND, SOURCE, KEYWDS, EXPDTA, MDLTYP, \n",
      "    AUTHOR, SPRSDE, JRNL, REMARK\n",
      "\n",
      "###Mx1 RECORDS:\n",
      "    REVDAT, DBREF, DBREF1, DBREF2, SEQADV, MODRES, HET, HELIX, SHEET, SSBOND,\n",
      "    LINK, CISPEP, MTRIX1, MTRIX2, MTRIX3, ATOM, ANISOU, TER, HETATM, CONECT\n",
      "\n",
      "###MxN RECORDS:\n",
      "    SEQRES, HETNAM, HETSYN, FORMUL, SITE, MODEL, ENDMDL\n",
      "\n",
      "These informations are **crucial**, because this property will determine how the data can be accessed.\n",
      "\n",
      "###1x1 case\n",
      "This case is easy like one times one equal one :))\n",
      "\n",
      "There is only one line, so this is not a list, just a string\n",
      "\n",
      "**1x1 Example**"
     ]
    },
    {
     "cell_type": "code",
     "collapsed": false,
     "input": [
      "print(myPDB_1.HEADER)\n",
      "print(myPDB_2.HEADER)\n",
      "print(myPDB_3.HEADER)"
     ],
     "language": "python",
     "metadata": {},
     "outputs": []
    },
    {
     "cell_type": "markdown",
     "metadata": {},
     "source": [
      "NOTE: The **HEADER** line is special, because it is built up from multiple informations.\n",
      "\n",
      "When the HEADER line is parsed, two additional properties are added to PDBfile class, such as idCode and depDate.\n",
      "* **idCode** should be the PDB ID code that was parsed.\n",
      "* **depDate** is a python datetime object containig the date of deposition.\n",
      "\n",
      "idCode is read from the HEADER line so even if the file is called something else, this is still accurate."
     ]
    },
    {
     "cell_type": "code",
     "collapsed": false,
     "input": [
      "print(myPDB_1.idCode, '\\t', myPDB_1.depDate.strftime(\"%A %d. %B %Y\"))\n",
      "print(myPDB_2.idCode, '\\t', myPDB_2.depDate.strftime(\"%A %d. %B %Y\"))\n",
      "print(myPDB_3.idCode, '\\t', myPDB_3.depDate.strftime(\"%A %d. %B %Y\"))"
     ],
     "language": "python",
     "metadata": {},
     "outputs": []
    },
    {
     "cell_type": "markdown",
     "metadata": {},
     "source": [
      "###1xN case\n",
      "These RECORDS will be lists of N strings <sub>(like TITLE was earlier)</sub>\n",
      "\n",
      "Examples"
     ]
    },
    {
     "cell_type": "code",
     "collapsed": false,
     "input": [
      "print(myPDB_1.COMPND, len(myPDB_1.COMPND))\n",
      "print(myPDB_2.COMPND, len(myPDB_2.COMPND))\n",
      "for t in myPDB_3.COMPND:\n",
      "    print(t)"
     ],
     "language": "python",
     "metadata": {},
     "outputs": []
    },
    {
     "cell_type": "markdown",
     "metadata": {},
     "source": [
      "From the mandatory COMPND section the CHAINS is extracted directly as a property of PDBfile class"
     ]
    },
    {
     "cell_type": "code",
     "collapsed": false,
     "input": [
      "print(myPDB_1.CHAINS)\n",
      "print(myPDB_2.CHAINS)\n",
      "print(myPDB_3.CHAINS)"
     ],
     "language": "python",
     "metadata": {},
     "outputs": []
    },
    {
     "cell_type": "code",
     "collapsed": false,
     "input": [
      "print(myPDB_1.KEYWDS)\n",
      "print(myPDB_2.KEYWDS)\n",
      "print(myPDB_3.KEYWDS)"
     ],
     "language": "python",
     "metadata": {},
     "outputs": []
    },
    {
     "cell_type": "markdown",
     "metadata": {},
     "source": [
      "###Mx1 case\n",
      "These RECORDS will be lists of M strings or M objects.\n",
      "\n",
      "Examples"
     ]
    },
    {
     "cell_type": "code",
     "collapsed": false,
     "input": [
      "print(myPDB_1.REVDAT)\n",
      "print(myPDB_2.REVDAT)\n",
      "print(myPDB_3.REVDAT)"
     ],
     "language": "python",
     "metadata": {},
     "outputs": []
    },
    {
     "cell_type": "markdown",
     "metadata": {},
     "source": [
      "The objects cannot be printed like the strings."
     ]
    },
    {
     "cell_type": "code",
     "collapsed": false,
     "input": [
      "print(myPDB_1.CISPEP)\n",
      "print(myPDB_2.CISPEP)\n",
      "print(myPDB_3.CISPEP)"
     ],
     "language": "python",
     "metadata": {},
     "outputs": []
    },
    {
     "cell_type": "markdown",
     "metadata": {},
     "source": [
      "A for loop can be used for example:"
     ]
    },
    {
     "cell_type": "code",
     "collapsed": false,
     "input": [
      "for obj in myPDB_3.CISPEP:\n",
      "    print('{}  {}  {}  {}  {}  {}  {}  {}  {}  {}  {}'.format(\n",
      "          obj.serNum, obj.resName1, obj.chainID1, obj.seqNum1, obj.icode1,\n",
      "          obj.resName2, obj.chainID2, obj.seqNum2, obj.icode2, obj.modNum, obj.angle))"
     ],
     "language": "python",
     "metadata": {},
     "outputs": []
    },
    {
     "cell_type": "markdown",
     "metadata": {},
     "source": [
      "NOTE: **Values can be None!**\n",
      "\n",
      "Naming convention comes from PDB file format guide, for the meaning of these names please refer to that.\n",
      "\n",
      "Capital letters in the object properties namings mean that the property is a PDBfile property, other properties\n",
      "that come from some of these properties start with lowercase (even for idCode and depDate for example)\n",
      "\n",
      "The property list can always be printed with:"
     ]
    },
    {
     "cell_type": "code",
     "collapsed": false,
     "input": [
      "print(dir(myPDB_1.HELIX[0]))"
     ],
     "language": "python",
     "metadata": {},
     "outputs": []
    },
    {
     "cell_type": "code",
     "collapsed": false,
     "input": [
      "print(myPDB_1.HELIX[0].length)"
     ],
     "language": "python",
     "metadata": {},
     "outputs": []
    },
    {
     "cell_type": "markdown",
     "metadata": {},
     "source": [
      "###MxN case\n",
      "In this case a double for loop is needed to get all the information in the right order\n",
      "Entries can be lists of lists of strings or dictionary\n",
      "\n",
      "    HETNAM, HETSYN, FORMUL and SITE are dictionaries\n",
      "\n",
      "Examples"
     ]
    },
    {
     "cell_type": "code",
     "collapsed": false,
     "input": [
      "for key, value in myPDB_3.HETNAM.items():\n",
      "    print(key, '\\t', value)"
     ],
     "language": "python",
     "metadata": {},
     "outputs": []
    },
    {
     "cell_type": "code",
     "collapsed": false,
     "input": [
      "for key, value in myPDB_3.FORMUL.items():\n",
      "    print(key, '\\t', value)"
     ],
     "language": "python",
     "metadata": {},
     "outputs": []
    },
    {
     "cell_type": "code",
     "collapsed": false,
     "input": [
      "for key, value in myPDB_1.SITE.items():\n",
      "    print(myPDB_3.SITE[key][0], myPDB_3.SITE[key][1])\n",
      "    for residue in myPDB_3.SITE[key][2]:\n",
      "        print(residue)"
     ],
     "language": "python",
     "metadata": {},
     "outputs": []
    },
    {
     "cell_type": "markdown",
     "metadata": {},
     "source": [
      "NOTE: **SITE is special**, because the name of the site and the number of residues is also given, therefore the keys are just a range of numbers, and the values are lists of name, length, list-of-residues\n",
      "\n",
      "    So key is integer starting from 0\n",
      "    value is list of length 3\n",
      "    value[2] is a list of lists (n)\n",
      "    value[2][n] is list of length 4"
     ]
    },
    {
     "cell_type": "markdown",
     "metadata": {},
     "source": [
      "##Special PDBfile properties:"
     ]
    },
    {
     "cell_type": "code",
     "collapsed": false,
     "input": [
      "print(myPDB_1.JUNK)\n",
      "print(myPDB_2.JUNK)\n",
      "print(myPDB_3.JUNK)"
     ],
     "language": "python",
     "metadata": {},
     "outputs": []
    },
    {
     "cell_type": "markdown",
     "metadata": {},
     "source": [
      "**JUNK** property **has to be None**, always, otherwise there was a line that was read and couldn't be identified with any of the RECORDS, this means that the PDB file does not match the file format, either is corrupted or it is a newer version <sub>(or there is a bug in the code, but that was tested, and it shouldn't be)</sub>"
     ]
    },
    {
     "cell_type": "code",
     "collapsed": false,
     "input": [
      "print(myPDB_1.LINENUM[:40])"
     ],
     "language": "python",
     "metadata": {},
     "outputs": []
    },
    {
     "cell_type": "markdown",
     "metadata": {},
     "source": [
      "**LINENUM** is a list of RECORDS, each position corresponding to the line number that it was found in.\n",
      "\n",
      "Length of LINENUM has to be equal to the number of lines in the file.\n",
      "\n",
      "In case there is a warning message, stating the line number, this can be looked up as:"
     ]
    },
    {
     "cell_type": "code",
     "collapsed": false,
     "input": [
      "line_number = 10\n",
      "print(myPDB_3.LINENUM[line_number])"
     ],
     "language": "python",
     "metadata": {},
     "outputs": []
    },
    {
     "cell_type": "markdown",
     "metadata": {},
     "source": [
      "Similarly each RECORD can be looked up by the **LINENUMINV** dictionary"
     ]
    },
    {
     "cell_type": "code",
     "collapsed": false,
     "input": [
      "print(myPDB_1.LINENUMINV['HEADER'])\n",
      "print(myPDB_1.LINENUMINV['JRNL'])"
     ],
     "language": "python",
     "metadata": {},
     "outputs": []
    },
    {
     "cell_type": "markdown",
     "metadata": {},
     "source": [
      "This will give a list of line numbers where the RECORD was found.\n",
      "\n",
      "This should be continous unless it's an MxN case."
     ]
    },
    {
     "cell_type": "markdown",
     "metadata": {},
     "source": [
      "The following code will print lots of information about the first PDF file, execute it only if interested."
     ]
    },
    {
     "cell_type": "code",
     "collapsed": false,
     "input": [
      "f = myPDB_1\n",
      "P = [f.HEADER, f.depDate, f.idCode, f.OBSLTE, f.TITLE, f.SPLIT, f.CAVEAT, f.COMPND, f.CHAINS, f.SOURCE, f.KEYWDS,\n",
      "      f.EXPDTA, f.NUMMDL, f.MDLTYP, f.AUTHOR, f.REVDAT, f.SPRSDE, f.JRNL, f.REMARK_0, f.REMARK_1, f.REMARK_2,\n",
      "      f.REMARK_3, f.REMARK_4, f.REMARK_5, f.REMARK_6, f.REMARK_100, f.REMARK_200, f.REMARK_205, f.REMARK_210,\n",
      "      f.REMARK_230, f.REMARK_240, f.REMARK_245, f.REMARK_247, f.REMARK_250, f.REMARK_265, f.REMARK_280, f.REMARK_285,\n",
      "      f.REMARK_290, f.REMARK_300, f.REMARK_350, f.REMARK_375, f.REMARK_400, f.REMARK_450, f.REMARK_465, f.REMARK_470,\n",
      "      f.REMARK_475, f.REMARK_480, f.REMARK_500, f.REMARK_525, f.REMARK_600, f.REMARK_610, f.REMARK_615, f.REMARK_620,\n",
      "      f.REMARK_630, f.REMARK_650, f.REMARK_700, f.REMARK_800, f.REMARK_999, f.DBREF[0].idCode, f.DBREF1, f.DBREF2, f.SEQADV,\n",
      "      f.SEQRES, f.SEQRESlen, f.MODRES, f.HET, f.HETNAM, f.HETSYN, f.FORMUL, f.HELIX[2].helixID, f.SHEET[2].sheetID, \n",
      "      f.SSBOND, f.LINK, f.CISPEP[0].resName1, f.SITE, f.CRYST1, f.ORIGX1, f.ORIGX2, f.ORIGX3, f.SCALE1, f.SCALE2, f.SCALE3,\n",
      "      f.MTRIX1, f.MTRIX2, f.MTRIX3, f.MODEL, f.ATOM[0].x, f.ATOM[1].y, f.ATOM[9].z, f.ANISOU, f.TER[0].resName, f.HETATM[0].x,\n",
      "      f.HETATM[1].y, f.ENDMDL, f.CONECT, f.MASTER, f.END,\n",
      "      f.JUNK, f.LINENUM[0], f.LINENUM[9], f.LINENUMINV['TITLE'], f.LINENUMINV['FORMUL'], f.FSOURCE]\n",
      "\n",
      "for p in P:\n",
      "    print(p)"
     ],
     "language": "python",
     "metadata": {},
     "outputs": []
    },
    {
     "cell_type": "markdown",
     "metadata": {},
     "source": [
      "The **FSOURCE** will give the source of the file, in case it was forgot somehow."
     ]
    },
    {
     "cell_type": "code",
     "collapsed": false,
     "input": [
      "print(myPDB_1.FSOURCE)\n",
      "print(myPDB_2.FSOURCE)\n",
      "print(myPDB_3.FSOURCE)"
     ],
     "language": "python",
     "metadata": {},
     "outputs": []
    },
    {
     "cell_type": "markdown",
     "metadata": {},
     "source": [
      "**pickle** can be used to save and load the PDBfile objects"
     ]
    },
    {
     "cell_type": "code",
     "collapsed": false,
     "input": [
      "import pickle\n",
      "\n",
      "with open('1a0k.pydb', 'wb') as f: #needs to be opened in binary mode\n",
      "    pickle.dump(myPDB_1, f)\n",
      "\n",
      "with open('1a0k.pydb', 'rb') as f: #needs to be opened in binary mode\n",
      "    pdb_1a0k = pickle.load(f)\n",
      "\n",
      "print(pdb_1a0k.HEADER, '\\n', pdb_1a0k.ATOM[0].x)"
     ],
     "language": "python",
     "metadata": {},
     "outputs": []
    },
    {
     "cell_type": "markdown",
     "metadata": {},
     "source": [
      "Using pickle the file size does not increase too much <sub>(because the PDB file format is a fixed length format, so it contains lots of space characters)</sub>\n",
      "\n",
      "    1a0k.pdb is: 131,382 bytes\n",
      "    1a0k.pydb is: 206,767 bytes\n",
      "\n",
      "This is a 57% increase, which is not bad"
     ]
    },
    {
     "cell_type": "code",
     "collapsed": false,
     "input": [
      "SEQRES_3to1 = {}\n",
      "for key, value in pdb_1a0k.SEQRES.items():\n",
      "    SEQRES_3to1[key] = translate3to1(pdb_1a0k.SEQRES[key])\n",
      "print(SEQRES_3to1)\n",
      "print(translate1to3(SEQRES_3to1['A']))"
     ],
     "language": "python",
     "metadata": {},
     "outputs": []
    },
    {
     "cell_type": "code",
     "collapsed": false,
     "input": [],
     "language": "python",
     "metadata": {},
     "outputs": [],
     "prompt_number": 48
    }
   ],
   "metadata": {}
  }
 ]
}